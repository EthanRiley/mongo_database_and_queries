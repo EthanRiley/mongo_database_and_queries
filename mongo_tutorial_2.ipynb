{
 "cells": [
  {
   "cell_type": "markdown",
   "metadata": {},
   "source": [
    "# Importing and Connection to the database"
   ]
  },
  {
   "cell_type": "code",
   "execution_count": 20,
   "metadata": {},
   "outputs": [],
   "source": [
    "import pymongo\n",
    "import pprint\n",
    "from math import dist"
   ]
  },
  {
   "cell_type": "code",
   "execution_count": 21,
   "metadata": {},
   "outputs": [],
   "source": [
    "client = pymongo.MongoClient('localhost', 27017)\n",
    "db = client['demo']\n",
    "restaurants = db['restaurants']"
   ]
  },
  {
   "cell_type": "markdown",
   "metadata": {},
   "source": [
    "# Basic Queries\n",
    "\n",
    "### Get the first record from the database"
   ]
  },
  {
   "cell_type": "code",
   "execution_count": 22,
   "metadata": {},
   "outputs": [
    {
     "name": "stdout",
     "output_type": "stream",
     "text": [
      "{'_id': ObjectId('63f66e984a7faf43c7575c88'),\n",
      " 'address': {'building': '2780',\n",
      "             'coord': [-73.98241999999999, 40.579505],\n",
      "             'street': 'Stillwell Avenue',\n",
      "             'zipcode': '11224'},\n",
      " 'borough': 'Brooklyn',\n",
      " 'cuisine': 'American',\n",
      " 'grades': [{'date': datetime.datetime(2014, 6, 10, 0, 0),\n",
      "             'grade': 'A',\n",
      "             'score': 5},\n",
      "            {'date': datetime.datetime(2013, 6, 5, 0, 0),\n",
      "             'grade': 'A',\n",
      "             'score': 7},\n",
      "            {'date': datetime.datetime(2012, 4, 13, 0, 0),\n",
      "             'grade': 'A',\n",
      "             'score': 12},\n",
      "            {'date': datetime.datetime(2011, 10, 12, 0, 0),\n",
      "             'grade': 'A',\n",
      "             'score': 12}],\n",
      " 'name': 'Riviera Caterer',\n",
      " 'restaurant_id': '40356018'}\n"
     ]
    }
   ],
   "source": [
    "query = restaurants.find_one()\n",
    "pprint.pprint(query)"
   ]
  },
  {
   "cell_type": "markdown",
   "metadata": {},
   "source": [
    "### Get the information for the restaurant called \"Towne Cafe\""
   ]
  },
  {
   "cell_type": "code",
   "execution_count": 23,
   "metadata": {},
   "outputs": [
    {
     "name": "stdout",
     "output_type": "stream",
     "text": [
      "{'_id': ObjectId('63f66e984a7faf43c7575cd5'),\n",
      " 'address': {'building': '2602',\n",
      "             'coord': [-73.95443709999999, 40.5877993],\n",
      "             'street': 'East   15 Street',\n",
      "             'zipcode': '11235'},\n",
      " 'borough': 'Brooklyn',\n",
      " 'cuisine': 'American',\n",
      " 'grades': [{'date': datetime.datetime(2014, 5, 14, 0, 0),\n",
      "             'grade': 'A',\n",
      "             'score': 11},\n",
      "            {'date': datetime.datetime(2013, 4, 27, 0, 0),\n",
      "             'grade': 'A',\n",
      "             'score': 9},\n",
      "            {'date': datetime.datetime(2012, 11, 23, 0, 0),\n",
      "             'grade': 'B',\n",
      "             'score': 27},\n",
      "            {'date': datetime.datetime(2012, 3, 14, 0, 0),\n",
      "             'grade': 'B',\n",
      "             'score': 17},\n",
      "            {'date': datetime.datetime(2011, 7, 14, 0, 0),\n",
      "             'grade': 'B',\n",
      "             'score': 21}],\n",
      " 'name': 'Towne Cafe',\n",
      " 'restaurant_id': '40364681'}\n"
     ]
    }
   ],
   "source": [
    "query = restaurants.find({\"name\": \"Towne Cafe\"})\n",
    "for restaurant in query:\n",
    "    pprint.pprint(restaurant)"
   ]
  },
  {
   "cell_type": "markdown",
   "metadata": {},
   "source": [
    "### What Restaurants are on Church Street"
   ]
  },
  {
   "cell_type": "code",
   "execution_count": 52,
   "metadata": {},
   "outputs": [
    {
     "name": "stdout",
     "output_type": "stream",
     "text": [
      "{'name': 'Downtown Deli'}\n",
      "{'name': \"Domino'S Pizza\"}\n",
      "{'name': \"South'S\"}\n",
      "{'name': 'Macao  Restuarant And Bar'}\n",
      "{'name': 'B Flat'}\n",
      "{'name': 'La Colombe Torrefaction'}\n",
      "{'name': \"Saluggi'S\"}\n",
      "{'name': 'Westside Coffee Shop Restaurant'}\n",
      "{'name': 'Dunkin Donuts'}\n",
      "{'name': 'Starbucks Coffee'}\n"
     ]
    }
   ],
   "source": [
    "query = restaurants.find({\"address.street\":\"Church Street\"}, {\"name\":1,\"_id\":0})\n",
    "for i in range(10):\n",
    "    pprint.pprint(query[i])"
   ]
  },
  {
   "cell_type": "markdown",
   "metadata": {},
   "source": [
    "# Level 2 Queries"
   ]
  },
  {
   "cell_type": "markdown",
   "metadata": {},
   "source": [
    "# Find number of restaurants in Brooklyn"
   ]
  },
  {
   "cell_type": "code",
   "execution_count": 25,
   "metadata": {},
   "outputs": [
    {
     "name": "stdout",
     "output_type": "stream",
     "text": [
      "6086\n"
     ]
    }
   ],
   "source": [
    "query1 = restaurants.count_documents({\"borough\":\"Brooklyn\"})\n",
    "\n",
    "pprint.pprint(query1)\n"
   ]
  },
  {
   "cell_type": "markdown",
   "metadata": {},
   "source": [
    "# Find number of Italian Restaurants in Bronx"
   ]
  },
  {
   "cell_type": "code",
   "execution_count": 26,
   "metadata": {},
   "outputs": [
    {
     "name": "stdout",
     "output_type": "stream",
     "text": [
      "52\n"
     ]
    }
   ],
   "source": [
    "query2 = restaurants.count_documents({\"cuisine\":\"Italian\", \"borough\":\"Bronx\"})\n",
    "\n",
    "pprint.pprint(query2)"
   ]
  },
  {
   "cell_type": "markdown",
   "metadata": {},
   "source": [
    "# Level 3 Queries"
   ]
  },
  {
   "cell_type": "markdown",
   "metadata": {},
   "source": [
    "# How many Restaurants are in each Zipcode"
   ]
  },
  {
   "cell_type": "code",
   "execution_count": 51,
   "metadata": {},
   "outputs": [
    {
     "name": "stdout",
     "output_type": "stream",
     "text": [
      "{'_id': '10003', 'num': 686}\n",
      "{'_id': '10019', 'num': 675}\n",
      "{'_id': '10036', 'num': 611}\n",
      "{'_id': '10001', 'num': 520}\n",
      "{'_id': '10022', 'num': 485}\n",
      "{'_id': '10013', 'num': 480}\n",
      "{'_id': '10002', 'num': 471}\n",
      "{'_id': '10011', 'num': 467}\n",
      "{'_id': '10016', 'num': 433}\n",
      "{'_id': '10014', 'num': 428}\n"
     ]
    }
   ],
   "source": [
    "query3 = restaurants.aggregate([\n",
    "    {\"$group\": {\"_id\": \"$address.zipcode\",\"num\": {\"$sum\": 1}}},\n",
    "    {\"$sort\": {\"num\":-1}} \n",
    "])\n",
    "\n",
    "query_list = list(query3)\n",
    "\n",
    "for q in range(10):\n",
    "    pprint.pprint(query_list[q])\n",
    "    "
   ]
  },
  {
   "cell_type": "markdown",
   "metadata": {},
   "source": [
    "# How many Restaurants per cuisine"
   ]
  },
  {
   "cell_type": "code",
   "execution_count": 50,
   "metadata": {},
   "outputs": [
    {
     "name": "stdout",
     "output_type": "stream",
     "text": [
      "{'_id': 'American', 'num': 6183}\n",
      "{'_id': 'Chinese', 'num': 2418}\n",
      "{'_id': 'Café/Coffee/Tea', 'num': 1214}\n",
      "{'_id': 'Pizza', 'num': 1163}\n",
      "{'_id': 'Italian', 'num': 1069}\n",
      "{'_id': 'Other', 'num': 1011}\n",
      "{'_id': 'Latin (Cuban, Dominican, Puerto Rican, South & Central American)',\n",
      " 'num': 850}\n",
      "{'_id': 'Japanese', 'num': 760}\n",
      "{'_id': 'Mexican', 'num': 754}\n",
      "{'_id': 'Bakery', 'num': 691}\n"
     ]
    }
   ],
   "source": [
    "query4 = restaurants.aggregate([\n",
    "    {\"$group\": {\"_id\": \"$cuisine\",\"num\": {\"$sum\": 1}}},\n",
    "    {\"$sort\": {\"num\":-1}} \n",
    "])\n",
    "\n",
    "query_list = list(query4)\n",
    "\n",
    "for i in range(10):\n",
    "    pprint.pprint(query_list[i])"
   ]
  },
  {
   "cell_type": "markdown",
   "metadata": {},
   "source": [
    "# Level 4 Queries"
   ]
  },
  {
   "cell_type": "markdown",
   "metadata": {},
   "source": [
    "# Using Match Stage to Filter for boroughs with over 1,000 restaurants"
   ]
  },
  {
   "cell_type": "code",
   "execution_count": 29,
   "metadata": {},
   "outputs": [
    {
     "name": "stdout",
     "output_type": "stream",
     "text": [
      "{'_id': 'Manhattan', 'num': 10259}\n",
      "{'_id': 'Brooklyn', 'num': 6086}\n",
      "{'_id': 'Queens', 'num': 5656}\n",
      "{'_id': 'Bronx', 'num': 2338}\n"
     ]
    }
   ],
   "source": [
    "query5 = restaurants.aggregate([\n",
    "    {\"$group\": {\"_id\": \"$borough\",\"num\": {\"$sum\": 1}}},\n",
    "    {'$match': {'num' : {'$gte' : 1000}}},\n",
    "    {\"$sort\": {\"num\":-1}} \n",
    "])\n",
    "\n",
    "query_list = list(query5)\n",
    "\n",
    "for q in query_list:\n",
    "    pprint.pprint(q)\n"
   ]
  },
  {
   "cell_type": "markdown",
   "metadata": {},
   "source": [
    "# Using Match to filter for Irish Restaurants in Manhattan"
   ]
  },
  {
   "cell_type": "code",
   "execution_count": 30,
   "metadata": {},
   "outputs": [
    {
     "name": "stdout",
     "output_type": "stream",
     "text": [
      "{'_id': 'Irish', 'num': 116}\n"
     ]
    }
   ],
   "source": [
    "query6 = restaurants.aggregate([\n",
    "    {'$match': {'cuisine' : {'$eq' : 'Irish'}, 'borough': {'$eq' : 'Manhattan'}}},\n",
    "    {\"$group\": {\"_id\": \"$cuisine\", \"num\": {\"$sum\": 1}}},\n",
    "    {\"$sort\": {\"num\":-1}} \n",
    "])\n",
    "\n",
    "query_list = list(query6)\n",
    "\n",
    "for q in query_list:\n",
    "    pprint.pprint(q)\n"
   ]
  },
  {
   "cell_type": "markdown",
   "metadata": {},
   "source": [
    "# Level 5 Queries"
   ]
  },
  {
   "cell_type": "markdown",
   "metadata": {},
   "source": [
    "# Finding 5 closest restaurants to empire state building\n",
    "- Add field for distance from empire state\n",
    "- Return 5 closest distances"
   ]
  },
  {
   "cell_type": "code",
   "execution_count": 31,
   "metadata": {},
   "outputs": [],
   "source": [
    "empire_state_coord = [-73.9851304, 40.748817]\n",
    "\n",
    "pipeline =[\n",
    "  {\n",
    "    '$addFields': {\n",
    "      'distance': {\n",
    "        '$sqrt': {\n",
    "          '$add': [\n",
    "            {\n",
    "              '$pow': [\n",
    "                {\n",
    "                  '$subtract': [\n",
    "                    {\n",
    "                      '$arrayElemAt': [\n",
    "                        '$address.coord', 0\n",
    "                      ]\n",
    "                    }, empire_state_coord[0]\n",
    "                  ]\n",
    "                }, 2\n",
    "              ]\n",
    "            }, {\n",
    "              '$pow': [\n",
    "                {\n",
    "                  '$subtract': [\n",
    "                    {\n",
    "                      '$arrayElemAt': [\n",
    "                        '$address.coord', 1\n",
    "                      ]\n",
    "                    }, empire_state_coord[1]\n",
    "                  ]\n",
    "                }, 2\n",
    "              ]\n",
    "            }\n",
    "          ]\n",
    "        }\n",
    "      }\n",
    "    }\n",
    "  },\n",
    "{'$project': {'_id' : 0, 'name': 1, 'distance': 1}},\n",
    "{\"$sort\": {\"distance\":1}} \n",
    "]\n"
   ]
  },
  {
   "cell_type": "markdown",
   "metadata": {},
   "source": [
    "Citation:\n",
    "MongoDB. (2019, February 5). How to calculate distance between two geolocation points [Online forum post].\n",
    "MongoDB Community Forums. \n",
    "https://www.mongodb.com/community/forums/t/how-to-calculate-distance-between-two-geolocation-points/173045/2"
   ]
  },
  {
   "cell_type": "code",
   "execution_count": 32,
   "metadata": {},
   "outputs": [
    {
     "name": "stdout",
     "output_type": "stream",
     "text": [
      "{'distance': None, 'name': \"Fratelli'S Market Place\"}\n",
      "{'distance': None, 'name': 'Eugene & Co'}\n",
      "{'distance': 0.0004539718163053264, 'name': 'Subway'}\n",
      "{'distance': 0.0004539718163053264, 'name': 'The Stellan'}\n",
      "{'distance': 0.0005296839151894624, 'name': 'Potbelly Sandwich Shop'}\n"
     ]
    }
   ],
   "source": [
    "query7 = restaurants.aggregate(pipeline)\n",
    "\n",
    "query_list = list(query7)\n",
    "\n",
    "for i in range(5):\n",
    "    pprint.pprint(query_list[i])"
   ]
  },
  {
   "cell_type": "markdown",
   "metadata": {},
   "source": [
    "# Finding 5 Best Indian Restaurants in Manhattan\n",
    "\n",
    "- Finding american restaurants in manhattan\n",
    "- Adding Average score field\n",
    "- Returning 5 best scores (lower score is better)"
   ]
  },
  {
   "cell_type": "code",
   "execution_count": 42,
   "metadata": {},
   "outputs": [
    {
     "name": "stdout",
     "output_type": "stream",
     "text": [
      "{'_id': 'Indian', 'num': 152}\n"
     ]
    }
   ],
   "source": [
    "# Number of Indian Restaurants in Manhattan\n",
    "query6 = restaurants.aggregate([\n",
    "    {'$match': {'cuisine' : {'$eq' : 'Indian'}, 'borough': {'$eq' : 'Manhattan'}}},\n",
    "    {\"$group\": {\"_id\": \"$cuisine\", \"num\": {\"$sum\": 1}}},\n",
    "    {\"$sort\": {\"num\":-1}} \n",
    "])\n",
    "\n",
    "query_list = list(query6)\n",
    "\n",
    "for q in query_list:\n",
    "    pprint.pprint(q)\n"
   ]
  },
  {
   "cell_type": "code",
   "execution_count": 49,
   "metadata": {},
   "outputs": [
    {
     "name": "stdout",
     "output_type": "stream",
     "text": [
      "{'average_score': 2.5,\n",
      " 'borough': 'Manhattan',\n",
      " 'cuisine': 'Indian',\n",
      " 'name': 'Diwan-E-Khaas',\n",
      " 'num_grades': 4,\n",
      " 'total_score': 10}\n",
      "{'average_score': 3.0,\n",
      " 'borough': 'Manhattan',\n",
      " 'cuisine': 'Indian',\n",
      " 'name': 'Bricklane Curry House',\n",
      " 'num_grades': 1,\n",
      " 'total_score': 3}\n",
      "{'average_score': 4.0,\n",
      " 'borough': 'Manhattan',\n",
      " 'cuisine': 'Indian',\n",
      " 'name': 'Soho Tiffin Junction',\n",
      " 'num_grades': 1,\n",
      " 'total_score': 4}\n",
      "{'average_score': 4.75,\n",
      " 'borough': 'Manhattan',\n",
      " 'cuisine': 'Indian',\n",
      " 'name': 'Diwan-E- Khaas',\n",
      " 'num_grades': 4,\n",
      " 'total_score': 19}\n",
      "{'average_score': 5.75,\n",
      " 'borough': 'Manhattan',\n",
      " 'cuisine': 'Indian',\n",
      " 'name': 'Taj Cafe',\n",
      " 'num_grades': 4,\n",
      " 'total_score': 23}\n"
     ]
    }
   ],
   "source": [
    "# adding average score fields for each restaurant\n",
    "query6 = restaurants.aggregate([\n",
    "    {'$match': {'cuisine': {'$eq': 'Indian'},'borough': {'$eq': 'Manhattan'}}},\n",
    "    {'$project': {'_id': 0,'name': 1,'borough': 1, 'cuisine': 1,\n",
    "                  'num_grades': {'$size': '$grades'},'total_score': {'$sum': '$grades.score'}}},\n",
    "    {'$match': {'num_grades': {'$gt': 0}}},\n",
    "    {'$addFields': {'average_score': {'$divide': ['$total_score', '$num_grades']}}},\n",
    "    {'$sort': {'average_score': 1}}])\n",
    "\n",
    "query_list = list(query6)\n",
    "\n",
    "for i in range(5):\n",
    "    pprint.pprint(query_list[i])\n"
   ]
  },
  {
   "cell_type": "code",
   "execution_count": null,
   "metadata": {},
   "outputs": [],
   "source": []
  }
 ],
 "metadata": {
  "kernelspec": {
   "display_name": "Python 3 (ipykernel)",
   "language": "python",
   "name": "python3"
  },
  "language_info": {
   "codemirror_mode": {
    "name": "ipython",
    "version": 3
   },
   "file_extension": ".py",
   "mimetype": "text/x-python",
   "name": "python",
   "nbconvert_exporter": "python",
   "pygments_lexer": "ipython3",
   "version": "3.8.12"
  },
  "vscode": {
   "interpreter": {
    "hash": "34a9bf072dc09c3afc49051eaaf3a37c23272b1ef28f0d6a124f74680cefe318"
   }
  }
 },
 "nbformat": 4,
 "nbformat_minor": 2
}
