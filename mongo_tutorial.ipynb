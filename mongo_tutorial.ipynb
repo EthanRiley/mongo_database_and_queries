{
 "cells": [
  {
   "attachments": {},
   "cell_type": "markdown",
   "metadata": {},
   "source": [
    "# Importing and connection to the database"
   ]
  },
  {
   "cell_type": "code",
   "execution_count": 22,
   "metadata": {},
   "outputs": [],
   "source": [
    "import pymongo\n",
    "import pprint\n",
    "client = pymongo.MongoClient('localhost', 27017)\n",
    "db = client['demo']\n",
    "restaurants = db['restaurants']"
   ]
  },
  {
   "attachments": {},
   "cell_type": "markdown",
   "metadata": {},
   "source": [
    "# Basic Queries\n",
    "\n",
    "### Get the first record from the database"
   ]
  },
  {
   "cell_type": "code",
   "execution_count": 23,
   "metadata": {},
   "outputs": [
    {
     "name": "stdout",
     "output_type": "stream",
     "text": [
      "{'_id': ObjectId('63f4280792e93c474289721a'),\n",
      " 'address': {'building': '351',\n",
      "             'coord': [-73.98513559999999, 40.7676919],\n",
      "             'street': 'West   57 Street',\n",
      "             'zipcode': '10019'},\n",
      " 'borough': 'Manhattan',\n",
      " 'cuisine': 'Irish',\n",
      " 'grades': [{'date': datetime.datetime(2014, 9, 6, 0, 0),\n",
      "             'grade': 'A',\n",
      "             'score': 2},\n",
      "            {'date': datetime.datetime(2013, 7, 22, 0, 0),\n",
      "             'grade': 'A',\n",
      "             'score': 11},\n",
      "            {'date': datetime.datetime(2012, 7, 31, 0, 0),\n",
      "             'grade': 'A',\n",
      "             'score': 12},\n",
      "            {'date': datetime.datetime(2011, 12, 29, 0, 0),\n",
      "             'grade': 'A',\n",
      "             'score': 12}],\n",
      " 'name': 'Dj Reynolds Pub And Restaurant',\n",
      " 'restaurant_id': '30191841'}\n"
     ]
    }
   ],
   "source": [
    "query = restaurants.find_one()\n",
    "pprint.pprint(query)"
   ]
  },
  {
   "attachments": {},
   "cell_type": "markdown",
   "metadata": {},
   "source": [
    "### Get the information for the restaurant called \"Towne Cafe\""
   ]
  },
  {
   "cell_type": "code",
   "execution_count": 24,
   "metadata": {},
   "outputs": [
    {
     "name": "stdout",
     "output_type": "stream",
     "text": [
      "{'_id': ObjectId('63f4280792e93c474289726a'),\n",
      " 'address': {'building': '2602',\n",
      "             'coord': [-73.95443709999999, 40.5877993],\n",
      "             'street': 'East   15 Street',\n",
      "             'zipcode': '11235'},\n",
      " 'borough': 'Brooklyn',\n",
      " 'cuisine': 'American',\n",
      " 'grades': [{'date': datetime.datetime(2014, 5, 14, 0, 0),\n",
      "             'grade': 'A',\n",
      "             'score': 11},\n",
      "            {'date': datetime.datetime(2013, 4, 27, 0, 0),\n",
      "             'grade': 'A',\n",
      "             'score': 9},\n",
      "            {'date': datetime.datetime(2012, 11, 23, 0, 0),\n",
      "             'grade': 'B',\n",
      "             'score': 27},\n",
      "            {'date': datetime.datetime(2012, 3, 14, 0, 0),\n",
      "             'grade': 'B',\n",
      "             'score': 17},\n",
      "            {'date': datetime.datetime(2011, 7, 14, 0, 0),\n",
      "             'grade': 'B',\n",
      "             'score': 21}],\n",
      " 'name': 'Towne Cafe',\n",
      " 'restaurant_id': '40364681'}\n"
     ]
    }
   ],
   "source": [
    "query = restaurants.find({\"name\": \"Towne Cafe\"})\n",
    "for restaurant in query:\n",
    "    pprint.pprint(restaurant)"
   ]
  },
  {
   "attachments": {},
   "cell_type": "markdown",
   "metadata": {},
   "source": [
    "### What Restaurants are on Church Street"
   ]
  },
  {
   "cell_type": "code",
   "execution_count": 25,
   "metadata": {},
   "outputs": [
    {
     "name": "stdout",
     "output_type": "stream",
     "text": [
      "{'name': 'Downtown Deli'}\n",
      "{'name': \"Domino'S Pizza\"}\n",
      "{'name': \"South'S\"}\n",
      "{'name': 'Macao  Restuarant And Bar'}\n",
      "{'name': 'B Flat'}\n",
      "{'name': 'La Colombe Torrefaction'}\n",
      "{'name': \"Saluggi'S\"}\n",
      "{'name': 'Westside Coffee Shop Restaurant'}\n",
      "{'name': 'Dunkin Donuts'}\n",
      "{'name': 'Starbucks Coffee'}\n",
      "{'name': 'Dona Bella  Pizza'}\n",
      "{'name': 'Babaghanoush'}\n",
      "{'name': 'Birdbath  Neighborhood Green Bakery'}\n",
      "{'name': 'Da Mikele'}\n",
      "{'name': 'Eliezer Kitchen'}\n",
      "{'name': 'Subway'}\n",
      "{'name': 'Subway'}\n",
      "{'name': 'Pret A Manger'}\n",
      "{'name': 'Millenium Hilton'}\n",
      "{'name': 'Aroma Espresso Bar'}\n"
     ]
    }
   ],
   "source": [
    "query = restaurants.find({\"address.street\":\"Church Street\"}, {\"name\":1,\"_id\":0})\n",
    "for i in range(20):\n",
    "    pprint.pprint(query[i])"
   ]
  },
  {
   "attachments": {},
   "cell_type": "markdown",
   "metadata": {},
   "source": [
    "# Level 2 Queries"
   ]
  },
  {
   "cell_type": "code",
   "execution_count": null,
   "metadata": {},
   "outputs": [],
   "source": []
  },
  {
   "cell_type": "code",
   "execution_count": null,
   "metadata": {},
   "outputs": [],
   "source": []
  }
 ],
 "metadata": {
  "kernelspec": {
   "display_name": "env",
   "language": "python",
   "name": "python3"
  },
  "language_info": {
   "codemirror_mode": {
    "name": "ipython",
    "version": 3
   },
   "file_extension": ".py",
   "mimetype": "text/x-python",
   "name": "python",
   "nbconvert_exporter": "python",
   "pygments_lexer": "ipython3",
   "version": "3.9.12"
  },
  "orig_nbformat": 4,
  "vscode": {
   "interpreter": {
    "hash": "34a9bf072dc09c3afc49051eaaf3a37c23272b1ef28f0d6a124f74680cefe318"
   }
  }
 },
 "nbformat": 4,
 "nbformat_minor": 2
}
