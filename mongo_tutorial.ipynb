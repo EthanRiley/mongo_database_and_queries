{
 "cells": [
  {
   "cell_type": "markdown",
   "metadata": {},
   "source": [
    "# Importing and Connection to the database"
   ]
  },
  {
   "cell_type": "code",
   "execution_count": 2,
   "metadata": {},
   "outputs": [],
   "source": [
    "import pymongo\n",
    "import pprint\n",
    "from math import dist"
   ]
  },
  {
   "cell_type": "code",
   "execution_count": 3,
   "metadata": {},
   "outputs": [],
   "source": [
    "client = pymongo.MongoClient('localhost', 27017)\n",
    "db = client['demo']\n",
    "restaurants = db['restaurants']"
   ]
  },
  {
   "cell_type": "markdown",
   "metadata": {},
   "source": [
    "# Basic Queries\n",
    "\n",
    "### Get the first record from the database"
   ]
  },
  {
   "cell_type": "code",
   "execution_count": 4,
   "metadata": {},
   "outputs": [
    {
     "name": "stdout",
     "output_type": "stream",
     "text": [
      "{'_id': ObjectId('63f4280792e93c474289721a'),\n",
      " 'address': {'building': '351',\n",
      "             'coord': [-73.98513559999999, 40.7676919],\n",
      "             'street': 'West   57 Street',\n",
      "             'zipcode': '10019'},\n",
      " 'borough': 'Manhattan',\n",
      " 'cuisine': 'Irish',\n",
      " 'grades': [{'date': datetime.datetime(2014, 9, 6, 0, 0),\n",
      "             'grade': 'A',\n",
      "             'score': 2},\n",
      "            {'date': datetime.datetime(2013, 7, 22, 0, 0),\n",
      "             'grade': 'A',\n",
      "             'score': 11},\n",
      "            {'date': datetime.datetime(2012, 7, 31, 0, 0),\n",
      "             'grade': 'A',\n",
      "             'score': 12},\n",
      "            {'date': datetime.datetime(2011, 12, 29, 0, 0),\n",
      "             'grade': 'A',\n",
      "             'score': 12}],\n",
      " 'name': 'Dj Reynolds Pub And Restaurant',\n",
      " 'restaurant_id': '30191841'}\n"
     ]
    }
   ],
   "source": [
    "query = restaurants.find_one()\n",
    "pprint.pprint(query)"
   ]
  },
  {
   "cell_type": "markdown",
   "metadata": {},
   "source": [
    "### Get the information for the restaurant called \"Towne Cafe\""
   ]
  },
  {
   "cell_type": "code",
   "execution_count": 5,
   "metadata": {},
   "outputs": [
    {
     "name": "stdout",
     "output_type": "stream",
     "text": [
      "{'_id': ObjectId('63f4280792e93c474289726a'),\n",
      " 'address': {'building': '2602',\n",
      "             'coord': [-73.95443709999999, 40.5877993],\n",
      "             'street': 'East   15 Street',\n",
      "             'zipcode': '11235'},\n",
      " 'borough': 'Brooklyn',\n",
      " 'cuisine': 'American',\n",
      " 'grades': [{'date': datetime.datetime(2014, 5, 14, 0, 0),\n",
      "             'grade': 'A',\n",
      "             'score': 11},\n",
      "            {'date': datetime.datetime(2013, 4, 27, 0, 0),\n",
      "             'grade': 'A',\n",
      "             'score': 9},\n",
      "            {'date': datetime.datetime(2012, 11, 23, 0, 0),\n",
      "             'grade': 'B',\n",
      "             'score': 27},\n",
      "            {'date': datetime.datetime(2012, 3, 14, 0, 0),\n",
      "             'grade': 'B',\n",
      "             'score': 17},\n",
      "            {'date': datetime.datetime(2011, 7, 14, 0, 0),\n",
      "             'grade': 'B',\n",
      "             'score': 21}],\n",
      " 'name': 'Towne Cafe',\n",
      " 'restaurant_id': '40364681'}\n"
     ]
    }
   ],
   "source": [
    "query = restaurants.find({\"name\": \"Towne Cafe\"})\n",
    "for restaurant in query:\n",
    "    pprint.pprint(restaurant)"
   ]
  },
  {
   "cell_type": "markdown",
   "metadata": {},
   "source": [
    "### What Restaurants are on Church Street"
   ]
  },
  {
   "cell_type": "code",
   "execution_count": 6,
   "metadata": {},
   "outputs": [
    {
     "name": "stdout",
     "output_type": "stream",
     "text": [
      "{'name': 'Downtown Deli'}\n",
      "{'name': \"Domino'S Pizza\"}\n",
      "{'name': \"South'S\"}\n",
      "{'name': 'Macao  Restuarant And Bar'}\n",
      "{'name': 'B Flat'}\n",
      "{'name': 'La Colombe Torrefaction'}\n",
      "{'name': \"Saluggi'S\"}\n",
      "{'name': 'Westside Coffee Shop Restaurant'}\n",
      "{'name': 'Dunkin Donuts'}\n",
      "{'name': 'Starbucks Coffee'}\n"
     ]
    }
   ],
   "source": [
    "query = restaurants.find({\"address.street\":\"Church Street\"}, {\"name\":1,\"_id\":0})\n",
    "for i in range(10):\n",
    "    pprint.pprint(query[i])"
   ]
  },
  {
   "cell_type": "markdown",
   "metadata": {},
   "source": [
    "# Level 2 Queries"
   ]
  },
  {
   "cell_type": "markdown",
   "metadata": {},
   "source": [
    "# Find number of restaurants in Brooklyn"
   ]
  },
  {
   "cell_type": "code",
   "execution_count": 7,
   "metadata": {},
   "outputs": [
    {
     "name": "stdout",
     "output_type": "stream",
     "text": [
      "6086\n"
     ]
    }
   ],
   "source": [
    "query1 = restaurants.count_documents({\"borough\":\"Brooklyn\"})\n",
    "\n",
    "pprint.pprint(query1)\n"
   ]
  },
  {
   "cell_type": "markdown",
   "metadata": {},
   "source": [
    "# Find number of Italian Restaurants in Bronx"
   ]
  },
  {
   "cell_type": "code",
   "execution_count": 8,
   "metadata": {},
   "outputs": [
    {
     "name": "stdout",
     "output_type": "stream",
     "text": [
      "52\n"
     ]
    }
   ],
   "source": [
    "query2 = restaurants.count_documents({\"cuisine\":\"Italian\", \"borough\":\"Bronx\"})\n",
    "\n",
    "pprint.pprint(query2)"
   ]
  },
  {
   "cell_type": "markdown",
   "metadata": {},
   "source": [
    "# Level 3 Queries"
   ]
  },
  {
   "cell_type": "markdown",
   "metadata": {},
   "source": [
    "# How many Restaurants are in each Zipcode"
   ]
  },
  {
   "cell_type": "code",
   "execution_count": 9,
   "metadata": {},
   "outputs": [
    {
     "name": "stdout",
     "output_type": "stream",
     "text": [
      "{'_id': '10003', 'num': 686}\n",
      "{'_id': '10019', 'num': 675}\n",
      "{'_id': '10036', 'num': 611}\n",
      "{'_id': '10001', 'num': 520}\n",
      "{'_id': '10022', 'num': 485}\n",
      "{'_id': '10013', 'num': 480}\n",
      "{'_id': '10002', 'num': 471}\n",
      "{'_id': '10011', 'num': 467}\n",
      "{'_id': '10016', 'num': 433}\n",
      "{'_id': '10014', 'num': 428}\n"
     ]
    }
   ],
   "source": [
    "query3 = restaurants.aggregate([\n",
    "    {\"$group\": {\"_id\": \"$address.zipcode\",\"num\": {\"$sum\": 1}}},\n",
    "    {\"$sort\": {\"num\":-1}} \n",
    "])\n",
    "\n",
    "query_list = list(query3)\n",
    "\n",
    "for q in range(10):\n",
    "    pprint.pprint(query_list[q])\n",
    "    "
   ]
  },
  {
   "cell_type": "markdown",
   "metadata": {},
   "source": [
    "# How many Restaurants per cuisine"
   ]
  },
  {
   "cell_type": "code",
   "execution_count": 10,
   "metadata": {},
   "outputs": [
    {
     "name": "stdout",
     "output_type": "stream",
     "text": [
      "{'_id': 'American', 'num': 6183}\n",
      "{'_id': 'Chinese', 'num': 2418}\n",
      "{'_id': 'Café/Coffee/Tea', 'num': 1214}\n",
      "{'_id': 'Pizza', 'num': 1163}\n",
      "{'_id': 'Italian', 'num': 1069}\n",
      "{'_id': 'Other', 'num': 1011}\n",
      "{'_id': 'Latin (Cuban, Dominican, Puerto Rican, South & Central American)',\n",
      " 'num': 850}\n",
      "{'_id': 'Japanese', 'num': 760}\n",
      "{'_id': 'Mexican', 'num': 754}\n",
      "{'_id': 'Bakery', 'num': 691}\n"
     ]
    }
   ],
   "source": [
    "query4 = restaurants.aggregate([\n",
    "    {\"$group\": {\"_id\": \"$cuisine\",\"num\": {\"$sum\": 1}}},\n",
    "    {\"$sort\": {\"num\":-1}} \n",
    "])\n",
    "\n",
    "query_list = list(query4)\n",
    "\n",
    "for i in range(10):\n",
    "    pprint.pprint(query_list[i])"
   ]
  },
  {
   "cell_type": "markdown",
   "metadata": {},
   "source": [
    "# Level 4 Queries"
   ]
  },
  {
   "cell_type": "markdown",
   "metadata": {},
   "source": [
    "# Using Match Stage to Filter for boroughs with over 1,000 restaurants"
   ]
  },
  {
   "cell_type": "code",
   "execution_count": 11,
   "metadata": {},
   "outputs": [
    {
     "name": "stdout",
     "output_type": "stream",
     "text": [
      "{'_id': 'Manhattan', 'num': 10259}\n",
      "{'_id': 'Brooklyn', 'num': 6086}\n",
      "{'_id': 'Queens', 'num': 5656}\n",
      "{'_id': 'Bronx', 'num': 2338}\n"
     ]
    }
   ],
   "source": [
    "query5 = restaurants.aggregate([\n",
    "    {\"$group\": {\"_id\": \"$borough\",\"num\": {\"$sum\": 1}}},\n",
    "    {'$match': {'num' : {'$gte' : 1000}}},\n",
    "    {\"$sort\": {\"num\":-1}} \n",
    "])\n",
    "\n",
    "query_list = list(query5)\n",
    "\n",
    "for q in query_list:\n",
    "    pprint.pprint(q)\n"
   ]
  },
  {
   "cell_type": "markdown",
   "metadata": {},
   "source": [
    "# Using Match to filter for Irish Restaurants in Manhattan"
   ]
  },
  {
   "cell_type": "code",
   "execution_count": 12,
   "metadata": {},
   "outputs": [
    {
     "name": "stdout",
     "output_type": "stream",
     "text": [
      "{'_id': 'Irish', 'num': 116}\n"
     ]
    }
   ],
   "source": [
    "query6 = restaurants.aggregate([\n",
    "    {'$match': {'cuisine' : {'$eq' : 'Irish'}, 'borough': {'$eq' : 'Manhattan'}}},\n",
    "    {\"$group\": {\"_id\": \"$cuisine\", \"num\": {\"$sum\": 1}}},\n",
    "    {\"$sort\": {\"num\":-1}} \n",
    "])\n",
    "\n",
    "query_list = list(query6)\n",
    "\n",
    "for q in query_list:\n",
    "    pprint.pprint(q)\n"
   ]
  },
  {
   "cell_type": "markdown",
   "metadata": {},
   "source": [
    "# Level 5 Queries"
   ]
  },
  {
   "cell_type": "markdown",
   "metadata": {},
   "source": [
    "# Finding 5 closest restaurants to empire state building\n",
    "- Add field for distance from empire state\n",
    "- Return 5 closest distances"
   ]
  },
  {
   "cell_type": "code",
   "execution_count": 70,
   "metadata": {},
   "outputs": [],
   "source": [
    "empire_state_coord = [-73.9851304, 40.748817]\n",
    "\n",
    "pipeline =[\n",
    "  {\n",
    "    '$addFields': {\n",
    "      'distance': {\n",
    "        '$sqrt': {\n",
    "          '$add': [\n",
    "            {\n",
    "              '$pow': [\n",
    "                {\n",
    "                  '$subtract': [\n",
    "                    {\n",
    "                      '$arrayElemAt': [\n",
    "                        '$address.coord', 0\n",
    "                      ]\n",
    "                    }, empire_state_coord[0]\n",
    "                  ]\n",
    "                }, 2\n",
    "              ]\n",
    "            }, {\n",
    "              '$pow': [\n",
    "                {\n",
    "                  '$subtract': [\n",
    "                    {\n",
    "                      '$arrayElemAt': [\n",
    "                        '$address.coord', 1\n",
    "                      ]\n",
    "                    }, empire_state_coord[1]\n",
    "                  ]\n",
    "                }, 2\n",
    "              ]\n",
    "            }\n",
    "          ]\n",
    "        }\n",
    "      }\n",
    "    }\n",
    "  },\n",
    "{'$project': {'_id' : 0, 'name': 1, 'distance': 1, 'address.coord': 1, 'cuisine': 1}},\n",
    "{\"$sort\": {\"distance\":1}} \n",
    "]\n"
   ]
  },
  {
   "cell_type": "markdown",
   "metadata": {},
   "source": [
    "Citation:\n",
    "MongoDB. (2019, February 5). How to calculate distance between two geolocation points [Online forum post].\n",
    "MongoDB Community Forums. \n",
    "https://www.mongodb.com/community/forums/t/how-to-calculate-distance-between-two-geolocation-points/173045/2"
   ]
  },
  {
   "cell_type": "code",
   "execution_count": 95,
   "metadata": {},
   "outputs": [
    {
     "name": "stdout",
     "output_type": "stream",
     "text": [
      "{'address': {'coord': []},\n",
      " 'cuisine': 'American',\n",
      " 'distance': None,\n",
      " 'name': \"Fratelli'S Market Place\"}\n",
      "{'address': {'coord': []},\n",
      " 'cuisine': 'American',\n",
      " 'distance': None,\n",
      " 'name': 'Eugene & Co'}\n",
      "{'address': {'coord': [-73.98505639999999, 40.7492649]},\n",
      " 'cuisine': 'Sandwiches',\n",
      " 'distance': 0.0004539718163053264,\n",
      " 'name': 'Subway'}\n",
      "{'address': {'coord': [-73.98505639999999, 40.7492649]},\n",
      " 'cuisine': 'American',\n",
      " 'distance': 0.0004539718163053264,\n",
      " 'name': 'The Stellan'}\n",
      "{'address': {'coord': [-73.98468919999999, 40.7491101]},\n",
      " 'cuisine': 'Sandwiches/Salads/Mixed Buffet',\n",
      " 'distance': 0.0005296839151894624,\n",
      " 'name': 'Potbelly Sandwich Shop'}\n",
      "{'address': {'coord': [-73.9845235, 40.7494199]},\n",
      " 'cuisine': 'American',\n",
      " 'distance': 0.0008554624597293969,\n",
      " 'name': 'Radio Star'}\n",
      "{'address': {'coord': [-73.9859105, 40.7492349]},\n",
      " 'cuisine': 'Other',\n",
      " 'distance': 0.0008849838529577749,\n",
      " 'name': \"Auntie Anne'S\"}\n",
      "{'address': {'coord': [-73.9854099, 40.749687]},\n",
      " 'cuisine': 'Pizza/Italian',\n",
      " 'distance': 0.0009137944243609209,\n",
      " 'name': 'Cafe Rustico Ii'}\n",
      "{'address': {'coord': [-73.9851429, 40.749803]},\n",
      " 'cuisine': 'American',\n",
      " 'distance': 0.000986079231094018,\n",
      " 'name': \"O'Reilly'S Off Fifth\"}\n",
      "{'address': {'coord': [-73.9855374, 40.7497401]},\n",
      " 'cuisine': 'American',\n",
      " 'distance': 0.0010088422126308383,\n",
      " 'name': 'The Liberty'}\n",
      "{'address': {'coord': [-73.9853517, 40.7477908]},\n",
      " 'cuisine': 'Café/Coffee/Tea',\n",
      " 'distance': 0.001049790517202297,\n",
      " 'name': 'Starbucks Coffee'}\n",
      "{'address': {'coord': [-73.9846809, 40.7478677]},\n",
      " 'cuisine': 'Chinese',\n",
      " 'distance': 0.0010503431534530335,\n",
      " 'name': '5Th Avenue Empire Cafe'}\n",
      "{'address': {'coord': [-73.98425790000002, 40.7494113]},\n",
      " 'cuisine': 'Korean',\n",
      " 'distance': 0.001055674542636168,\n",
      " 'name': 'Judy Karaoke'}\n",
      "{'address': {'coord': [-73.9857111, 40.7479328]},\n",
      " 'cuisine': 'American',\n",
      " 'distance': 0.0010578384233914247,\n",
      " 'name': 'Legends Nyc'}\n",
      "{'address': {'coord': [-73.98451399999999, 40.747948]},\n",
      " 'cuisine': 'Hamburgers',\n",
      " 'distance': 0.0010654153931768922,\n",
      " 'name': \"Mcdonald'S\"}\n",
      "{'address': {'coord': [-73.98535629999999, 40.74986860000001]},\n",
      " 'cuisine': 'Irish',\n",
      " 'distance': 0.0010755897777583495,\n",
      " 'name': 'Playwright Tavern'}\n",
      "{'address': {'coord': [-73.98581229999999, 40.7496521]},\n",
      " 'cuisine': 'Latin (Cuban, Dominican, Puerto Rican, South & Central American)',\n",
      " 'distance': 0.0010781371062991664,\n",
      " 'name': 'Lena'}\n",
      "{'address': {'coord': [-73.98400699999999, 40.7486485]},\n",
      " 'cuisine': 'American',\n",
      " 'distance': 0.0011359664651855877,\n",
      " 'name': 'C.U.N.Y Cafe'}\n",
      "{'address': {'coord': [-73.9847422, 40.747743]},\n",
      " 'cuisine': 'Hamburgers',\n",
      " 'distance': 0.0011420049211839291,\n",
      " 'name': \"Wendy'S\"}\n",
      "{'address': {'coord': [-73.9858445, 40.7478955]},\n",
      " 'cuisine': 'American',\n",
      " 'distance': 0.001165804897914709,\n",
      " 'name': 'Smash Burger'}\n"
     ]
    }
   ],
   "source": [
    "query7 = restaurants.aggregate(pipeline)\n",
    "\n",
    "query_list7 = list(query7)\n",
    "\n",
    "for i in range(20):\n",
    "    pprint.pprint(query_list7[i])"
   ]
  },
  {
   "cell_type": "markdown",
   "metadata": {},
   "source": [
    "# Finding 5 Best Indian Restaurants in Manhattan\n",
    "\n",
    "- Finding american restaurants in manhattan\n",
    "- Adding Average score field\n",
    "- Returning 5 best scores (lower score is better)"
   ]
  },
  {
   "cell_type": "code",
   "execution_count": 72,
   "metadata": {},
   "outputs": [
    {
     "name": "stdout",
     "output_type": "stream",
     "text": [
      "{'_id': 'Indian', 'num': 152}\n"
     ]
    }
   ],
   "source": [
    "# Number of Indian Restaurants in Manhattan\n",
    "query6 = restaurants.aggregate([\n",
    "    {'$match': {'cuisine' : {'$eq' : 'Indian'}, 'borough': {'$eq' : 'Manhattan'}}},\n",
    "    {\"$group\": {\"_id\": \"$cuisine\", \"num\": {\"$sum\": 1}}},\n",
    "    {\"$sort\": {\"num\":-1}} \n",
    "])\n",
    "\n",
    "query_list = list(query6)\n",
    "\n",
    "for q in query_list:\n",
    "    pprint.pprint(q)\n"
   ]
  },
  {
   "cell_type": "code",
   "execution_count": 73,
   "metadata": {},
   "outputs": [
    {
     "name": "stdout",
     "output_type": "stream",
     "text": [
      "{'average_score': 2.5,\n",
      " 'borough': 'Manhattan',\n",
      " 'cuisine': 'Indian',\n",
      " 'name': 'Diwan-E-Khaas',\n",
      " 'num_grades': 4,\n",
      " 'total_score': 10}\n",
      "{'average_score': 3.0,\n",
      " 'borough': 'Manhattan',\n",
      " 'cuisine': 'Indian',\n",
      " 'name': 'Bricklane Curry House',\n",
      " 'num_grades': 1,\n",
      " 'total_score': 3}\n",
      "{'average_score': 4.0,\n",
      " 'borough': 'Manhattan',\n",
      " 'cuisine': 'Indian',\n",
      " 'name': 'Soho Tiffin Junction',\n",
      " 'num_grades': 1,\n",
      " 'total_score': 4}\n",
      "{'average_score': 4.75,\n",
      " 'borough': 'Manhattan',\n",
      " 'cuisine': 'Indian',\n",
      " 'name': 'Diwan-E- Khaas',\n",
      " 'num_grades': 4,\n",
      " 'total_score': 19}\n",
      "{'average_score': 5.75,\n",
      " 'borough': 'Manhattan',\n",
      " 'cuisine': 'Indian',\n",
      " 'name': 'Taj Cafe',\n",
      " 'num_grades': 4,\n",
      " 'total_score': 23}\n"
     ]
    }
   ],
   "source": [
    "# adding average score fields for each restaurant\n",
    "query6 = restaurants.aggregate([\n",
    "    {'$match': {'cuisine': {'$eq': 'Indian'},'borough': {'$eq': 'Manhattan'}}},\n",
    "    {'$project': {'_id': 0,'name': 1,'borough': 1, 'cuisine': 1,\n",
    "                  'num_grades': {'$size': '$grades'},'total_score': {'$sum': '$grades.score'}}},\n",
    "    {'$match': {'num_grades': {'$gt': 0}}},\n",
    "    {'$addFields': {'average_score': {'$divide': ['$total_score', '$num_grades']}}},\n",
    "    {'$sort': {'average_score': 1}}])\n",
    "\n",
    "query_list = list(query6)\n",
    "\n",
    "for i in range(5):\n",
    "    pprint.pprint(query_list[i])\n"
   ]
  },
  {
   "cell_type": "code",
   "execution_count": 74,
   "metadata": {},
   "outputs": [],
   "source": [
    "# Import matplotlib\n",
    "import matplotlib.pyplot as plt\n",
    "import pandas as pd\n",
    "\n",
    "# Convert query_list7 (a list of dictionaries) to a pandas dataframe\n",
    "df = pd.DataFrame(query_list7)\n"
   ]
  },
  {
   "cell_type": "code",
   "execution_count": 75,
   "metadata": {},
   "outputs": [],
   "source": [
    "# filter out all rows where distance is None\n",
    "df = df[df['distance'].notna()]\n",
    "# Create a new column called x-coord that contains the first element of the coord list\n",
    "df['x-coord'] = df['address'].apply(lambda x: x['coord'][0])\n",
    "# Create a new column called y-coord that contains the second element of the coord list\n",
    "df['y-coord'] = df['address'].apply(lambda x: x['coord'][1])"
   ]
  },
  {
   "cell_type": "code",
   "execution_count": 76,
   "metadata": {},
   "outputs": [
    {
     "data": {
      "text/html": [
       "<div>\n",
       "<style scoped>\n",
       "    .dataframe tbody tr th:only-of-type {\n",
       "        vertical-align: middle;\n",
       "    }\n",
       "\n",
       "    .dataframe tbody tr th {\n",
       "        vertical-align: top;\n",
       "    }\n",
       "\n",
       "    .dataframe thead th {\n",
       "        text-align: right;\n",
       "    }\n",
       "</style>\n",
       "<table border=\"1\" class=\"dataframe\">\n",
       "  <thead>\n",
       "    <tr style=\"text-align: right;\">\n",
       "      <th></th>\n",
       "      <th>address</th>\n",
       "      <th>cuisine</th>\n",
       "      <th>name</th>\n",
       "      <th>distance</th>\n",
       "      <th>x-coord</th>\n",
       "      <th>y-coord</th>\n",
       "    </tr>\n",
       "  </thead>\n",
       "  <tbody>\n",
       "    <tr>\n",
       "      <th>2</th>\n",
       "      <td>{'coord': [-73.98505639999999, 40.7492649]}</td>\n",
       "      <td>Sandwiches</td>\n",
       "      <td>Subway</td>\n",
       "      <td>0.000454</td>\n",
       "      <td>-73.985056</td>\n",
       "      <td>40.749265</td>\n",
       "    </tr>\n",
       "    <tr>\n",
       "      <th>3</th>\n",
       "      <td>{'coord': [-73.98505639999999, 40.7492649]}</td>\n",
       "      <td>American</td>\n",
       "      <td>The Stellan</td>\n",
       "      <td>0.000454</td>\n",
       "      <td>-73.985056</td>\n",
       "      <td>40.749265</td>\n",
       "    </tr>\n",
       "    <tr>\n",
       "      <th>4</th>\n",
       "      <td>{'coord': [-73.98468919999999, 40.7491101]}</td>\n",
       "      <td>Sandwiches/Salads/Mixed Buffet</td>\n",
       "      <td>Potbelly Sandwich Shop</td>\n",
       "      <td>0.000530</td>\n",
       "      <td>-73.984689</td>\n",
       "      <td>40.749110</td>\n",
       "    </tr>\n",
       "    <tr>\n",
       "      <th>5</th>\n",
       "      <td>{'coord': [-73.9845235, 40.7494199]}</td>\n",
       "      <td>American</td>\n",
       "      <td>Radio Star</td>\n",
       "      <td>0.000855</td>\n",
       "      <td>-73.984523</td>\n",
       "      <td>40.749420</td>\n",
       "    </tr>\n",
       "    <tr>\n",
       "      <th>6</th>\n",
       "      <td>{'coord': [-73.9859105, 40.7492349]}</td>\n",
       "      <td>Other</td>\n",
       "      <td>Auntie Anne'S</td>\n",
       "      <td>0.000885</td>\n",
       "      <td>-73.985911</td>\n",
       "      <td>40.749235</td>\n",
       "    </tr>\n",
       "    <tr>\n",
       "      <th>...</th>\n",
       "      <td>...</td>\n",
       "      <td>...</td>\n",
       "      <td>...</td>\n",
       "      <td>...</td>\n",
       "      <td>...</td>\n",
       "      <td>...</td>\n",
       "    </tr>\n",
       "    <tr>\n",
       "      <th>25354</th>\n",
       "      <td>{'coord': [100.6177619, 13.7085011]}</td>\n",
       "      <td>American</td>\n",
       "      <td>Lke Catering</td>\n",
       "      <td>176.684319</td>\n",
       "      <td>100.617762</td>\n",
       "      <td>13.708501</td>\n",
       "    </tr>\n",
       "    <tr>\n",
       "      <th>25355</th>\n",
       "      <td>{'coord': [100.6294417, 13.7440888]}</td>\n",
       "      <td>Mexican</td>\n",
       "      <td>The Taco Truck</td>\n",
       "      <td>176.690419</td>\n",
       "      <td>100.629442</td>\n",
       "      <td>13.744089</td>\n",
       "    </tr>\n",
       "    <tr>\n",
       "      <th>25356</th>\n",
       "      <td>{'coord': [104.9179596, 11.5415182]}</td>\n",
       "      <td>Café/Coffee/Tea</td>\n",
       "      <td>Starbucks Coffee</td>\n",
       "      <td>181.271570</td>\n",
       "      <td>104.917960</td>\n",
       "      <td>11.541518</td>\n",
       "    </tr>\n",
       "    <tr>\n",
       "      <th>25357</th>\n",
       "      <td>{'coord': [104.9179596, 11.5415182]}</td>\n",
       "      <td>Continental</td>\n",
       "      <td>Todd English Bonfire</td>\n",
       "      <td>181.271570</td>\n",
       "      <td>104.917960</td>\n",
       "      <td>11.541518</td>\n",
       "    </tr>\n",
       "    <tr>\n",
       "      <th>25358</th>\n",
       "      <td>{'coord': [153.1628795, -28.0168595]}</td>\n",
       "      <td>Steak</td>\n",
       "      <td>Sammy'S Steakhouse</td>\n",
       "      <td>237.328752</td>\n",
       "      <td>153.162880</td>\n",
       "      <td>-28.016859</td>\n",
       "    </tr>\n",
       "  </tbody>\n",
       "</table>\n",
       "<p>25357 rows × 6 columns</p>\n",
       "</div>"
      ],
      "text/plain": [
       "                                           address  \\\n",
       "2      {'coord': [-73.98505639999999, 40.7492649]}   \n",
       "3      {'coord': [-73.98505639999999, 40.7492649]}   \n",
       "4      {'coord': [-73.98468919999999, 40.7491101]}   \n",
       "5             {'coord': [-73.9845235, 40.7494199]}   \n",
       "6             {'coord': [-73.9859105, 40.7492349]}   \n",
       "...                                            ...   \n",
       "25354         {'coord': [100.6177619, 13.7085011]}   \n",
       "25355         {'coord': [100.6294417, 13.7440888]}   \n",
       "25356         {'coord': [104.9179596, 11.5415182]}   \n",
       "25357         {'coord': [104.9179596, 11.5415182]}   \n",
       "25358        {'coord': [153.1628795, -28.0168595]}   \n",
       "\n",
       "                              cuisine                    name    distance  \\\n",
       "2                          Sandwiches                  Subway    0.000454   \n",
       "3                            American             The Stellan    0.000454   \n",
       "4      Sandwiches/Salads/Mixed Buffet  Potbelly Sandwich Shop    0.000530   \n",
       "5                            American              Radio Star    0.000855   \n",
       "6                               Other           Auntie Anne'S    0.000885   \n",
       "...                               ...                     ...         ...   \n",
       "25354                        American            Lke Catering  176.684319   \n",
       "25355                         Mexican          The Taco Truck  176.690419   \n",
       "25356                 Café/Coffee/Tea        Starbucks Coffee  181.271570   \n",
       "25357                     Continental    Todd English Bonfire  181.271570   \n",
       "25358                           Steak      Sammy'S Steakhouse  237.328752   \n",
       "\n",
       "          x-coord    y-coord  \n",
       "2      -73.985056  40.749265  \n",
       "3      -73.985056  40.749265  \n",
       "4      -73.984689  40.749110  \n",
       "5      -73.984523  40.749420  \n",
       "6      -73.985911  40.749235  \n",
       "...           ...        ...  \n",
       "25354  100.617762  13.708501  \n",
       "25355  100.629442  13.744089  \n",
       "25356  104.917960  11.541518  \n",
       "25357  104.917960  11.541518  \n",
       "25358  153.162880 -28.016859  \n",
       "\n",
       "[25357 rows x 6 columns]"
      ]
     },
     "execution_count": 76,
     "metadata": {},
     "output_type": "execute_result"
    }
   ],
   "source": [
    "df"
   ]
  },
  {
   "cell_type": "code",
   "execution_count": 77,
   "metadata": {},
   "outputs": [
    {
     "name": "stderr",
     "output_type": "stream",
     "text": [
      "/var/folders/h7/zb9vsqrj4dv9gjlsgd_0p70h0000gn/T/ipykernel_6425/3906415687.py:2: FutureWarning: The frame.append method is deprecated and will be removed from pandas in a future version. Use pandas.concat instead.\n",
      "  df = df.append({'address': 'None', 'name': 'Empire State Building', 'distance': 0, 'x-coord': empire_state_coord[0], 'y-coord': empire_state_coord[1], 'cuisine': 'none'}, ignore_index=True)\n"
     ]
    }
   ],
   "source": [
    "# Append the Empire State Building coordinates to the dataframe\n",
    "df = df.append({'address': 'None', 'name': 'Empire State Building', 'distance': 0, 'x-coord': empire_state_coord[0], 'y-coord': empire_state_coord[1], 'cuisine': 'none'}, ignore_index=True)"
   ]
  },
  {
   "cell_type": "code",
   "execution_count": 78,
   "metadata": {},
   "outputs": [],
   "source": [
    "# Create a new column called relative x_coord that subtracts the x-coord of the Empire State Building from the x-coord of each restaurant\n",
    "df['relative x_coord'] = df['x-coord'] - empire_state_coord[0]\n",
    "# Create a new column called relative y_coord that subtracts the y-coord of the Empire State Building from the y-coord of each restaurant\n",
    "df['relative y_coord'] = df['y-coord'] - empire_state_coord[1]"
   ]
  },
  {
   "cell_type": "code",
   "execution_count": 106,
   "metadata": {},
   "outputs": [
    {
     "name": "stdout",
     "output_type": "stream",
     "text": [
      "['American', 'Chinese', 'Café/Coffee/Tea', 'Pizza', 'Italian', 'Other', 'Latin', 'Japanese', 'Mexican', 'Bakery']\n"
     ]
    },
    {
     "data": {
      "text/html": [
       "<div>\n",
       "<style scoped>\n",
       "    .dataframe tbody tr th:only-of-type {\n",
       "        vertical-align: middle;\n",
       "    }\n",
       "\n",
       "    .dataframe tbody tr th {\n",
       "        vertical-align: top;\n",
       "    }\n",
       "\n",
       "    .dataframe thead th {\n",
       "        text-align: right;\n",
       "    }\n",
       "</style>\n",
       "<table border=\"1\" class=\"dataframe\">\n",
       "  <thead>\n",
       "    <tr style=\"text-align: right;\">\n",
       "      <th></th>\n",
       "      <th>address</th>\n",
       "      <th>cuisine</th>\n",
       "      <th>name</th>\n",
       "      <th>distance</th>\n",
       "      <th>x-coord</th>\n",
       "      <th>y-coord</th>\n",
       "      <th>relative x_coord</th>\n",
       "      <th>relative y_coord</th>\n",
       "      <th>color</th>\n",
       "    </tr>\n",
       "  </thead>\n",
       "  <tbody>\n",
       "    <tr>\n",
       "      <th>0</th>\n",
       "      <td>{'coord': [-73.98505639999999, 40.7492649]}</td>\n",
       "      <td>Sandwiches</td>\n",
       "      <td>Subway</td>\n",
       "      <td>0.000454</td>\n",
       "      <td>-73.985056</td>\n",
       "      <td>40.749265</td>\n",
       "      <td>0.000074</td>\n",
       "      <td>0.000448</td>\n",
       "      <td>black</td>\n",
       "    </tr>\n",
       "    <tr>\n",
       "      <th>1</th>\n",
       "      <td>{'coord': [-73.98505639999999, 40.7492649]}</td>\n",
       "      <td>American</td>\n",
       "      <td>The Stellan</td>\n",
       "      <td>0.000454</td>\n",
       "      <td>-73.985056</td>\n",
       "      <td>40.749265</td>\n",
       "      <td>0.000074</td>\n",
       "      <td>0.000448</td>\n",
       "      <td>red</td>\n",
       "    </tr>\n",
       "    <tr>\n",
       "      <th>2</th>\n",
       "      <td>{'coord': [-73.98468919999999, 40.7491101]}</td>\n",
       "      <td>Sandwiches/Salads/Mixed Buffet</td>\n",
       "      <td>Potbelly Sandwich Shop</td>\n",
       "      <td>0.000530</td>\n",
       "      <td>-73.984689</td>\n",
       "      <td>40.749110</td>\n",
       "      <td>0.000441</td>\n",
       "      <td>0.000293</td>\n",
       "      <td>black</td>\n",
       "    </tr>\n",
       "    <tr>\n",
       "      <th>3</th>\n",
       "      <td>{'coord': [-73.9845235, 40.7494199]}</td>\n",
       "      <td>American</td>\n",
       "      <td>Radio Star</td>\n",
       "      <td>0.000855</td>\n",
       "      <td>-73.984523</td>\n",
       "      <td>40.749420</td>\n",
       "      <td>0.000607</td>\n",
       "      <td>0.000603</td>\n",
       "      <td>red</td>\n",
       "    </tr>\n",
       "    <tr>\n",
       "      <th>4</th>\n",
       "      <td>{'coord': [-73.9859105, 40.7492349]}</td>\n",
       "      <td>Other</td>\n",
       "      <td>Auntie Anne'S</td>\n",
       "      <td>0.000885</td>\n",
       "      <td>-73.985911</td>\n",
       "      <td>40.749235</td>\n",
       "      <td>-0.000780</td>\n",
       "      <td>0.000418</td>\n",
       "      <td>black</td>\n",
       "    </tr>\n",
       "    <tr>\n",
       "      <th>...</th>\n",
       "      <td>...</td>\n",
       "      <td>...</td>\n",
       "      <td>...</td>\n",
       "      <td>...</td>\n",
       "      <td>...</td>\n",
       "      <td>...</td>\n",
       "      <td>...</td>\n",
       "      <td>...</td>\n",
       "      <td>...</td>\n",
       "    </tr>\n",
       "    <tr>\n",
       "      <th>25353</th>\n",
       "      <td>{'coord': [100.6294417, 13.7440888]}</td>\n",
       "      <td>Mexican</td>\n",
       "      <td>The Taco Truck</td>\n",
       "      <td>176.690419</td>\n",
       "      <td>100.629442</td>\n",
       "      <td>13.744089</td>\n",
       "      <td>174.614572</td>\n",
       "      <td>-27.004728</td>\n",
       "      <td>yellow</td>\n",
       "    </tr>\n",
       "    <tr>\n",
       "      <th>25354</th>\n",
       "      <td>{'coord': [104.9179596, 11.5415182]}</td>\n",
       "      <td>Café/Coffee/Tea</td>\n",
       "      <td>Starbucks Coffee</td>\n",
       "      <td>181.271570</td>\n",
       "      <td>104.917960</td>\n",
       "      <td>11.541518</td>\n",
       "      <td>178.903090</td>\n",
       "      <td>-29.207299</td>\n",
       "      <td>brown</td>\n",
       "    </tr>\n",
       "    <tr>\n",
       "      <th>25355</th>\n",
       "      <td>{'coord': [104.9179596, 11.5415182]}</td>\n",
       "      <td>Continental</td>\n",
       "      <td>Todd English Bonfire</td>\n",
       "      <td>181.271570</td>\n",
       "      <td>104.917960</td>\n",
       "      <td>11.541518</td>\n",
       "      <td>178.903090</td>\n",
       "      <td>-29.207299</td>\n",
       "      <td>black</td>\n",
       "    </tr>\n",
       "    <tr>\n",
       "      <th>25356</th>\n",
       "      <td>{'coord': [153.1628795, -28.0168595]}</td>\n",
       "      <td>Steak</td>\n",
       "      <td>Sammy'S Steakhouse</td>\n",
       "      <td>237.328752</td>\n",
       "      <td>153.162880</td>\n",
       "      <td>-28.016859</td>\n",
       "      <td>227.148010</td>\n",
       "      <td>-68.765676</td>\n",
       "      <td>black</td>\n",
       "    </tr>\n",
       "    <tr>\n",
       "      <th>25357</th>\n",
       "      <td>None</td>\n",
       "      <td>none</td>\n",
       "      <td>Empire State Building</td>\n",
       "      <td>0.000000</td>\n",
       "      <td>-73.985130</td>\n",
       "      <td>40.748817</td>\n",
       "      <td>0.000000</td>\n",
       "      <td>0.000000</td>\n",
       "      <td>black</td>\n",
       "    </tr>\n",
       "  </tbody>\n",
       "</table>\n",
       "<p>25358 rows × 9 columns</p>\n",
       "</div>"
      ],
      "text/plain": [
       "                                           address  \\\n",
       "0      {'coord': [-73.98505639999999, 40.7492649]}   \n",
       "1      {'coord': [-73.98505639999999, 40.7492649]}   \n",
       "2      {'coord': [-73.98468919999999, 40.7491101]}   \n",
       "3             {'coord': [-73.9845235, 40.7494199]}   \n",
       "4             {'coord': [-73.9859105, 40.7492349]}   \n",
       "...                                            ...   \n",
       "25353         {'coord': [100.6294417, 13.7440888]}   \n",
       "25354         {'coord': [104.9179596, 11.5415182]}   \n",
       "25355         {'coord': [104.9179596, 11.5415182]}   \n",
       "25356        {'coord': [153.1628795, -28.0168595]}   \n",
       "25357                                         None   \n",
       "\n",
       "                              cuisine                    name    distance  \\\n",
       "0                          Sandwiches                  Subway    0.000454   \n",
       "1                            American             The Stellan    0.000454   \n",
       "2      Sandwiches/Salads/Mixed Buffet  Potbelly Sandwich Shop    0.000530   \n",
       "3                            American              Radio Star    0.000855   \n",
       "4                               Other           Auntie Anne'S    0.000885   \n",
       "...                               ...                     ...         ...   \n",
       "25353                         Mexican          The Taco Truck  176.690419   \n",
       "25354                 Café/Coffee/Tea        Starbucks Coffee  181.271570   \n",
       "25355                     Continental    Todd English Bonfire  181.271570   \n",
       "25356                           Steak      Sammy'S Steakhouse  237.328752   \n",
       "25357                            none   Empire State Building    0.000000   \n",
       "\n",
       "          x-coord    y-coord  relative x_coord  relative y_coord   color  \n",
       "0      -73.985056  40.749265          0.000074          0.000448   black  \n",
       "1      -73.985056  40.749265          0.000074          0.000448     red  \n",
       "2      -73.984689  40.749110          0.000441          0.000293   black  \n",
       "3      -73.984523  40.749420          0.000607          0.000603     red  \n",
       "4      -73.985911  40.749235         -0.000780          0.000418   black  \n",
       "...           ...        ...               ...               ...     ...  \n",
       "25353  100.629442  13.744089        174.614572        -27.004728  yellow  \n",
       "25354  104.917960  11.541518        178.903090        -29.207299   brown  \n",
       "25355  104.917960  11.541518        178.903090        -29.207299   black  \n",
       "25356  153.162880 -28.016859        227.148010        -68.765676   black  \n",
       "25357  -73.985130  40.748817          0.000000          0.000000   black  \n",
       "\n",
       "[25358 rows x 9 columns]"
      ]
     },
     "execution_count": 106,
     "metadata": {},
     "output_type": "execute_result"
    }
   ],
   "source": [
    "import numpy as np\n",
    "\n",
    "# Rename all columns titled 'Latin (Cuban, Dominican, Puerto Rican, South & Central American)' to 'Latin'\n",
    "df['cuisine'] = df['cuisine'].apply(lambda x: 'Latin' if x == 'Latin (Cuban, Dominican, Puerto Rican, South & Central American)' else x)\n",
    "\n",
    "# Get the 10 most common cuisines\n",
    "top_10_cuisines = df['cuisine'].value_counts().head(10).index.tolist()\n",
    "print(top_10_cuisines)\n",
    "\n",
    "# Create a dictionary that maps cuisine type to a color\n",
    "cuisine_color = {'American': 'red', 'Chinese': 'blue', 'Café/Coffee/Tea': 'brown', 'Italian': 'green', 'Pizza': 'green', 'Pizza/Italian': 'green', 'Mexican': 'yellow', 'Latin': 'yellow', 'Other': 'black'}\n",
    "\n",
    "# Create a new column that maps cuisine type to a color, if it is in the cuisine_color dictionary map it to the color, otherwise map it to black\n",
    "df['color'] = df['cuisine'].apply(lambda x: cuisine_color[x] if x in cuisine_color else 'black')\n"
   ]
  },
  {
   "cell_type": "code",
   "execution_count": 108,
   "metadata": {},
   "outputs": [
    {
     "data": {
      "image/png": "[encoded data removed]",
      "text/plain": [
       "<Figure size 1000x1000 with 1 Axes>"
      ]
     },
     "metadata": {},
     "output_type": "display_data"
    }
   ],
   "source": [
    "# Create a scatter plot of all the restaurants where the x-axis is the relative x-coord and the y-axis is the relative y-coord, and the color is the cuisine\n",
    "plt.scatter(df['relative x_coord'], df['relative y_coord'], color=df['color'])\n",
    "# Add a label to the x-axis\n",
    "plt.xlabel('Relative x-coord')\n",
    "# Add a label to the y-axis\n",
    "plt.ylabel('Relative y-coord')\n",
    "# Add a title\n",
    "plt.title('Restaurants near the Empire State Building')\n",
    "# Display the plot\n",
    "plt.gcf().set_size_inches(10, 10)\n",
    "# Draw an X at the Empire State Building\n",
    "plt.scatter(0, 0, marker='o', color='grey', s=100)\n",
    "# Set x and y limits at -200, 200\n",
    "# create a legend\n",
    "plt.legend(handles=[plt.scatter([],[], color=color, label=cuisine) for cuisine, color in cuisine_color.items()])\n",
    "plt.xlim(-0.005, 0.005)\n",
    "plt.ylim(-0.005, 0.005)\n",
    "plt.show()"
   ]
  }
 ],
 "metadata": {
  "kernelspec": {
   "display_name": "Python 3 (ipykernel)",
   "language": "python",
   "name": "python3"
  },
  "language_info": {
   "codemirror_mode": {
    "name": "ipython",
    "version": 3
   },
   "file_extension": ".py",
   "mimetype": "text/x-python",
   "name": "python",
   "nbconvert_exporter": "python",
   "pygments_lexer": "ipython3",
   "version": "3.9.12"
  },
  "vscode": {
   "interpreter": {
    "hash": "34a9bf072dc09c3afc49051eaaf3a37c23272b1ef28f0d6a124f74680cefe318"
   }
  }
 },
 "nbformat": 4,
 "nbformat_minor": 2
}
